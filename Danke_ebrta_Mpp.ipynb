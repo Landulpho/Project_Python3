{
  "nbformat": 4,
  "nbformat_minor": 0,
  "metadata": {
    "colab": {
      "name": "Danke_ebrta_Mpp.ipynb",
      "provenance": [],
      "collapsed_sections": [],
      "include_colab_link": true
    },
    "kernelspec": {
      "name": "python3",
      "display_name": "Python 3"
    },
    "language_info": {
      "name": "python"
    }
  },
  "cells": [
    {
      "cell_type": "markdown",
      "metadata": {
        "id": "view-in-github",
        "colab_type": "text"
      },
      "source": [
        "<a href=\"https://colab.research.google.com/github/Landulpho/Project_Python3/blob/main/Danke_ebrta_Mpp.ipynb\" target=\"_parent\"><img src=\"https://colab.research.google.com/assets/colab-badge.svg\" alt=\"Open In Colab\"/></a>"
      ]
    },
    {
      "cell_type": "code",
      "metadata": {
        "colab": {
          "base_uri": "https://localhost:8080/",
          "height": 129
        },
        "id": "zAfnaRbnVXLb",
        "outputId": "1995fec8-c83d-4e6c-e643-8752ae67b971"
      },
      "source": [
        "print \"Hallo Welt!\""
      ],
      "execution_count": 50,
      "outputs": [
        {
          "output_type": "error",
          "ename": "SyntaxError",
          "evalue": "ignored",
          "traceback": [
            "\u001b[0;36m  File \u001b[0;32m\"<ipython-input-50-17af9d0c9ec0>\"\u001b[0;36m, line \u001b[0;32m1\u001b[0m\n\u001b[0;31m    print \"Hallo Welt!\"\u001b[0m\n\u001b[0m                      ^\u001b[0m\n\u001b[0;31mSyntaxError\u001b[0m\u001b[0;31m:\u001b[0m Missing parentheses in call to 'print'. Did you mean print(\"Hallo Welt!\")?\n"
          ]
        }
      ]
    },
    {
      "cell_type": "code",
      "metadata": {
        "id": "bT0qePJSY7OG",
        "colab": {
          "base_uri": "https://localhost:8080/"
        },
        "outputId": "484d36b9-15b6-4dec-950c-0fef2ef9e676"
      },
      "source": [
        "numero_secreto = 42\n",
        "\n",
        "chute = int(input(\"Digite seu número: \"))\n",
        "print(\"Você digitou: \", chute)\n",
        "\n",
        "if (numero_secreto == chute):\n",
        "    print(\"Você é um sortudo do Caraleo!!\")\n",
        "else:\n",
        "    print(\"Sinto lhe informar, mas você é um merda!!\")\n",
        "\n",
        "print(\"Acabou a palhaçada, vai jogar no bicho que você ganha mais...\")"
      ],
      "execution_count": 45,
      "outputs": [
        {
          "output_type": "stream",
          "name": "stdout",
          "text": [
            "Digite seu número: 69\n",
            "Você digitou:  69\n",
            "Sinto lhe informar, mas você é um merda!!\n",
            "Acabou a palhaçada, vai jogar no bicho que você ganha mais...\n"
          ]
        }
      ]
    },
    {
      "cell_type": "code",
      "metadata": {
        "id": "fqIQFo08mYqh",
        "colab": {
          "base_uri": "https://localhost:8080/"
        },
        "outputId": "6d84935b-320b-472a-900d-64546e68f36f"
      },
      "source": [
        "nome=\"Valdisnei\"\n",
        "\n",
        "sobrenome=\"Da Silva\"\n",
        "\n",
        "print(nome, sobrenome, sep=\" \")\n"
      ],
      "execution_count": 49,
      "outputs": [
        {
          "output_type": "stream",
          "name": "stdout",
          "text": [
            "Valdisnei Da Silva\n"
          ]
        }
      ]
    }
  ]
}